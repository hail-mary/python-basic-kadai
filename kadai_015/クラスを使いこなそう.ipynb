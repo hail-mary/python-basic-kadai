{
  "nbformat": 4,
  "nbformat_minor": 0,
  "metadata": {
    "colab": {
      "provenance": []
    },
    "kernelspec": {
      "name": "python3",
      "display_name": "Python 3"
    },
    "language_info": {
      "name": "python"
    }
  },
  "cells": [
    {
      "cell_type": "code",
      "execution_count": 2,
      "metadata": {
        "colab": {
          "base_uri": "https://localhost:8080/"
        },
        "id": "BgFhHwxPoZgI",
        "outputId": "9097d1e2-9409-4fb2-870e-a04282bd25b2"
      },
      "outputs": [
        {
          "output_type": "stream",
          "name": "stdout",
          "text": [
            "name: John, age: 25\n"
          ]
        }
      ],
      "source": [
        "class Human:\n",
        "  def __init__(self, name: str, age: int):\n",
        "    self.name = name\n",
        "    self.age = age\n",
        "\n",
        "  def printinfo(self):\n",
        "    print(f'name: {self.name}, age: {self.age}')\n",
        "\n",
        "person = Human('John', 25)\n",
        "person.printinfo()"
      ]
    }
  ]
}