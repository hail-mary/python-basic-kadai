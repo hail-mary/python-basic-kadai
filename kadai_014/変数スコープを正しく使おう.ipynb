{
  "nbformat": 4,
  "nbformat_minor": 0,
  "metadata": {
    "colab": {
      "provenance": []
    },
    "kernelspec": {
      "name": "python3",
      "display_name": "Python 3"
    },
    "language_info": {
      "name": "python"
    }
  },
  "cells": [
    {
      "cell_type": "code",
      "execution_count": 2,
      "metadata": {
        "colab": {
          "base_uri": "https://localhost:8080/"
        },
        "id": "F6xARR7amuKA",
        "outputId": "0b4b0786-f17e-43b9-c799-ba0c81439389"
      },
      "outputs": [
        {
          "output_type": "stream",
          "name": "stdout",
          "text": [
            "330.0\n"
          ]
        }
      ],
      "source": [
        "tax = 1.1\n",
        "\n",
        "def total():\n",
        "    price1 = 100\n",
        "    price2 = 200\n",
        "    return price1 + price2\n",
        "\n",
        "print (total() * tax)\n"
      ]
    }
  ]
}