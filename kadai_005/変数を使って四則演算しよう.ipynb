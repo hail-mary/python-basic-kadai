{
  "nbformat": 4,
  "nbformat_minor": 0,
  "metadata": {
    "colab": {
      "provenance": []
    },
    "kernelspec": {
      "name": "python3",
      "display_name": "Python 3"
    },
    "language_info": {
      "name": "python"
    }
  },
  "cells": [
    {
      "cell_type": "markdown",
      "source": [
        "上辺：10cm\n",
        "下辺：20cm\n",
        "高さ：5cm\n",
        "\n",
        "公式：台形の面積 =（上辺＋下辺）× 高さ ÷ 2\n"
      ],
      "metadata": {
        "id": "j7WIfTOBWxMV"
      }
    },
    {
      "cell_type": "code",
      "source": [
        "S = (10 + 20) * 5 / 2\n",
        "print(f\"台形の面積は{S}㎠です。\")"
      ],
      "metadata": {
        "colab": {
          "base_uri": "https://localhost:8080/"
        },
        "id": "d_RRmFn3W1Rp",
        "outputId": "59387660-f8c8-4896-8583-46c4beb60ae3"
      },
      "execution_count": null,
      "outputs": [
        {
          "output_type": "stream",
          "name": "stdout",
          "text": [
            "台形の面積は75.0㎠です。\n"
          ]
        }
      ]
    }
  ]
}