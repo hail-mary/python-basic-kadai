{
  "nbformat": 4,
  "nbformat_minor": 0,
  "metadata": {
    "colab": {
      "provenance": []
    },
    "kernelspec": {
      "name": "python3",
      "display_name": "Python 3"
    },
    "language_info": {
      "name": "python"
    }
  },
  "cells": [
    {
      "cell_type": "code",
      "execution_count": 4,
      "metadata": {
        "colab": {
          "base_uri": "https://localhost:8080/"
        },
        "id": "R7kDIy8lpo13",
        "outputId": "d0b76cd7-af12-4ffa-b245-7b7159bba13b"
      },
      "outputs": [
        {
          "output_type": "stream",
          "name": "stdout",
          "text": [
            "John is an adult.\n",
            "Anna is not an adult.\n",
            "Greg is an adult.\n",
            "Bob is not an adult.\n",
            "Alice is an adult.\n"
          ]
        }
      ],
      "source": [
        "class Human:\n",
        "  def __init__(self, name: str, age: int):\n",
        "    self.name = name\n",
        "    self.age = age\n",
        "\n",
        "  def check_adult(self):\n",
        "    if self.age >= 20:\n",
        "      print(f\"{self.name} is an adult.\")\n",
        "    else:\n",
        "      print(f\"{self.name} is not an adult.\")\n",
        "\n",
        "person1 = Human(\"John\", 24)\n",
        "person2 = Human(\"Anna\", 18)\n",
        "person3 = Human(\"Greg\", 20)\n",
        "person4 = Human(\"Bob\", 19)\n",
        "person5 = Human(\"Alice\", 22)\n",
        "people_list = [person1, person2, person3, person4, person5]\n",
        "\n",
        "for human in people_list:\n",
        "  human.check_adult()"
      ]
    }
  ]
}