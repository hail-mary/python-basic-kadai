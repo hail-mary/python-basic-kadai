{
  "nbformat": 4,
  "nbformat_minor": 0,
  "metadata": {
    "colab": {
      "provenance": []
    },
    "kernelspec": {
      "name": "python3",
      "display_name": "Python 3"
    },
    "language_info": {
      "name": "python"
    }
  },
  "cells": [
    {
      "cell_type": "code",
      "execution_count": 2,
      "metadata": {
        "colab": {
          "base_uri": "https://localhost:8080/"
        },
        "id": "WMDSOiNskbzk",
        "outputId": "0104a9b7-804c-4ce9-a2c6-ccbde7da1de9"
      },
      "outputs": [
        {
          "output_type": "stream",
          "name": "stdout",
          "text": [
            "110.0\n"
          ]
        }
      ],
      "source": [
        "def include_tax(price: int, tax: float) -> float:\n",
        "    return price + (price * tax)\n",
        "\n",
        "price = 100\n",
        "tax = 0.1\n",
        "print(include_tax(price, tax))"
      ]
    }
  ]
}